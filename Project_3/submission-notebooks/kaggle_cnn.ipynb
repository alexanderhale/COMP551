{
 "cells": [
  {
   "cell_type": "markdown",
   "metadata": {},
   "source": [
    "# COMP 551 Assignment 3 - Modified VGG Classifier"
   ]
  },
  {
   "cell_type": "code",
   "execution_count": 1,
   "metadata": {
    "colab": {
     "base_uri": "https://localhost:8080/",
     "height": 98
    },
    "colab_type": "code",
    "executionInfo": {
     "elapsed": 18241,
     "status": "ok",
     "timestamp": 1573340596944,
     "user": {
      "displayName": "Priscilla Ip",
      "photoUrl": "",
      "userId": "04091620785403130041"
     },
     "user_tz": 300
    },
    "id": "SztnT7YsjLie",
    "outputId": "8b03a951-681d-4624-f587-f9fce5d1a2a9"
   },
   "outputs": [
    {
     "name": "stderr",
     "output_type": "stream",
     "text": [
      "C:\\Users\\Pasha\\Anaconda3\\lib\\site-packages\\h5py\\__init__.py:36: FutureWarning: Conversion of the second argument of issubdtype from `float` to `np.floating` is deprecated. In future, it will be treated as `np.float64 == np.dtype(float).type`.\n",
      "  from ._conv import register_converters as _register_converters\n",
      "Using TensorFlow backend.\n"
     ]
    }
   ],
   "source": [
    "# basic\n",
    "import io\n",
    "import cv2\n",
    "import numpy as np\n",
    "import matplotlib.pyplot as plt\n",
    "import pandas as pd\n",
    "\n",
    "import keras\n",
    "from keras.models import Sequential\n",
    "from keras.layers import Dense, Dropout, Flatten, Conv2D, MaxPooling2D, LeakyReLU, ZeroPadding2D,Convolution2D\n",
    "from keras.utils import plot_model, to_categorical\n",
    "from keras.callbacks import History\n",
    "from keras.optimizers import Nadam, Adam, SGD\n",
    "import matplotlib.pyplot as plt\n",
    "from keras.utils import np_utils\n",
    "from keras import backend as K\n",
    "from keras import regularizers\n",
    "\n",
    "from sklearn.preprocessing import LabelEncoder\n",
    "from sklearn.model_selection import train_test_split\n",
    "from sklearn.metrics import confusion_matrix\n",
    "from sklearn.preprocessing import OneHotEncoder"
   ]
  },
  {
   "cell_type": "code",
   "execution_count": 3,
   "metadata": {
    "colab": {
     "base_uri": "https://localhost:8080/",
     "height": 705
    },
    "colab_type": "code",
    "executionInfo": {
     "elapsed": 23578,
     "status": "ok",
     "timestamp": 1573340625830,
     "user": {
      "displayName": "Priscilla Ip",
      "photoUrl": "",
      "userId": "04091620785403130041"
     },
     "user_tz": 300
    },
    "id": "V0Hymvtmdn22",
    "outputId": "b8e667c6-2a6a-4ca8-aef8-1d8cd08f9aec"
   },
   "outputs": [
    {
     "name": "stdout",
     "output_type": "stream",
     "text": [
      "_________________________________________________________________\n",
      "Layer (type)                 Output Shape              Param #   \n",
      "=================================================================\n",
      "zero_padding2d_1 (ZeroPaddin (None, 130, 130, 1)       0         \n",
      "_________________________________________________________________\n",
      "conv2d_1 (Conv2D)            (None, 128, 128, 32)      320       \n",
      "_________________________________________________________________\n",
      "zero_padding2d_2 (ZeroPaddin (None, 130, 130, 32)      0         \n",
      "_________________________________________________________________\n",
      "conv2d_2 (Conv2D)            (None, 128, 128, 32)      9248      \n",
      "_________________________________________________________________\n",
      "max_pooling2d_1 (MaxPooling2 (None, 64, 64, 32)        0         \n",
      "_________________________________________________________________\n",
      "zero_padding2d_3 (ZeroPaddin (None, 66, 66, 32)        0         \n",
      "_________________________________________________________________\n",
      "conv2d_3 (Conv2D)            (None, 64, 64, 64)        18496     \n",
      "_________________________________________________________________\n",
      "zero_padding2d_4 (ZeroPaddin (None, 66, 66, 64)        0         \n",
      "_________________________________________________________________\n",
      "conv2d_4 (Conv2D)            (None, 64, 64, 64)        36928     \n",
      "_________________________________________________________________\n",
      "max_pooling2d_2 (MaxPooling2 (None, 32, 32, 64)        0         \n",
      "_________________________________________________________________\n",
      "dropout_1 (Dropout)          (None, 32, 32, 64)        0         \n",
      "_________________________________________________________________\n",
      "zero_padding2d_5 (ZeroPaddin (None, 34, 34, 64)        0         \n",
      "_________________________________________________________________\n",
      "conv2d_5 (Conv2D)            (None, 32, 32, 128)       73856     \n",
      "_________________________________________________________________\n",
      "zero_padding2d_6 (ZeroPaddin (None, 34, 34, 128)       0         \n",
      "_________________________________________________________________\n",
      "conv2d_6 (Conv2D)            (None, 32, 32, 128)       147584    \n",
      "_________________________________________________________________\n",
      "max_pooling2d_3 (MaxPooling2 (None, 16, 16, 128)       0         \n",
      "_________________________________________________________________\n",
      "dropout_2 (Dropout)          (None, 16, 16, 128)       0         \n",
      "_________________________________________________________________\n",
      "flatten_1 (Flatten)          (None, 32768)             0         \n",
      "_________________________________________________________________\n",
      "dense_1 (Dense)              (None, 512)               16777728  \n",
      "_________________________________________________________________\n",
      "dropout_3 (Dropout)          (None, 512)               0         \n",
      "_________________________________________________________________\n",
      "dense_2 (Dense)              (None, 10)                5130      \n",
      "=================================================================\n",
      "Total params: 17,069,290\n",
      "Trainable params: 17,069,290\n",
      "Non-trainable params: 0\n",
      "_________________________________________________________________\n"
     ]
    }
   ],
   "source": [
    "def cnn():\n",
    "    # create model\n",
    "    model = Sequential()\n",
    "    model.add(ZeroPadding2D((1,1),input_shape=(128,128,1)))\n",
    "    model.add(Conv2D(32, kernel_size=(3, 3), activation='relu'))\n",
    "    model.add(ZeroPadding2D((1,1)))\n",
    "    model.add(Conv2D(32, kernel_size=(3, 3), activation='relu'))\n",
    "    model.add(MaxPooling2D(pool_size=(2, 2)))\n",
    "\n",
    "    model.add(ZeroPadding2D((1,1)))\n",
    "    model.add(Conv2D(64, kernel_size=(3, 3), activation='relu'))\n",
    "    model.add(ZeroPadding2D((1,1)))\n",
    "    model.add(Conv2D(64, kernel_size=(3, 3), activation='relu'))\n",
    "    model.add(MaxPooling2D(pool_size=(2, 2)))\n",
    "    model.add(Dropout(0.5))\n",
    "\n",
    "    model.add(ZeroPadding2D((1,1)))\n",
    "    model.add(Conv2D(128, kernel_size=(3, 3), activation='relu'))\n",
    "    model.add(ZeroPadding2D((1,1)))\n",
    "    model.add(Conv2D(128, kernel_size=(3, 3), activation='relu'))\n",
    "    model.add(MaxPooling2D(pool_size=(2, 2)))\n",
    "    model.add(Dropout(0.5))\n",
    "\n",
    "    model.add(Flatten())\n",
    "    model.add(Dense(512, activation='relu'))\n",
    "    model.add(Dropout(0.5))\n",
    "    model.add(Dense(10, activation='softmax'))\n",
    "    # Compile\n",
    "    model.compile(loss='categorical_crossentropy', optimizer='adam', metrics=['accuracy'])\n",
    "    return model\n",
    "\n",
    "model = cnn()\n",
    "model.summary()"
   ]
  },
  {
   "cell_type": "code",
   "execution_count": 4,
   "metadata": {
    "colab": {},
    "colab_type": "code",
    "id": "hI08rMu2nUXc"
   },
   "outputs": [],
   "source": [
    "train_labels = pd.read_csv('train_max_y.csv')\n",
    "train_images = pd.read_pickle('train_max_x')\n",
    "test_images = pd.read_pickle('test_max_x')\n",
    "\n",
    "train_images = np.where(train_images<250, 0, train_images)\n",
    "test_images = np.where(test_images<250, 0, test_images)"
   ]
  },
  {
   "cell_type": "code",
   "execution_count": 14,
   "metadata": {},
   "outputs": [
    {
     "data": {
      "image/png": "[encoded data removed]",
      "text/plain": [
       "<Figure size 432x288 with 1 Axes>"
      ]
     },
     "metadata": {
      "needs_background": "light"
     },
     "output_type": "display_data"
    }
   ],
   "source": [
    "# X = np.where(train_images<250, 0, 255)\n",
    "# plt.imshow(X[0], cmap='gray')\n",
    "# plt.show()"
   ]
  },
  {
   "cell_type": "code",
   "execution_count": 9,
   "metadata": {},
   "outputs": [
    {
     "name": "stdout",
     "output_type": "stream",
     "text": [
      "(35000, 64, 64, 1)\n"
     ]
    }
   ],
   "source": [
    "# resized_imgs = []\n",
    "\n",
    "# for img in train_images: \n",
    "#     resized = cv2.resize(img, (64, 64))\n",
    "#     resized_imgs.append(resized)\n",
    "    \n",
    "# # Split the data into a training and test set\n",
    "\n",
    "# X_train, X_test, y_train, y_test = train_test_split(resized_imgs, train_labels['Label'], test_size=0.30, random_state=0, stratify=train_labels['Label'])\n",
    "# X_train = np.array(X_train)/255\n",
    "# X_test = np.array(X_test)/255\n",
    "# X_train = np.array(X_train).reshape(-1,64,64,1)\n",
    "# X_test = np.array(X_test).reshape(-1,64,64,1)\n",
    "# print(X_train.shape)\n",
    "# onehot_encoder = OneHotEncoder(sparse=False, categories='auto')\n",
    "# y_train = onehot_encoder.fit_transform(np.reshape(np.array(y_train), (-1,1)))\n",
    "# y_test = onehot_encoder.transform(np.reshape(np.array(y_test), (-1,1)))"
   ]
  },
  {
   "cell_type": "code",
   "execution_count": 5,
   "metadata": {
    "colab": {
     "base_uri": "https://localhost:8080/",
     "height": 34
    },
    "colab_type": "code",
    "executionInfo": {
     "elapsed": 154254,
     "status": "ok",
     "timestamp": 1573340785769,
     "user": {
      "displayName": "Priscilla Ip",
      "photoUrl": "",
      "userId": "04091620785403130041"
     },
     "user_tz": 300
    },
    "id": "FPRH3p-OsA1l",
    "outputId": "7b07a355-9938-46ee-fe19-3b47b9b72f24"
   },
   "outputs": [],
   "source": [
    "# Split the data into a training and test set\n",
    "\n",
    "# X_train, X_test, y_train, y_test = train_test_split(train_images, train_labels['Label'], test_size=0.30, random_state=0, stratify=train_labels['Label'])\n",
    "# X_train = np.array(X_train)/255\n",
    "# X_test = np.array(X_test)/255\n",
    "# X_train = np.array(X_train).reshape(-1,128,128,1)\n",
    "# X_test = np.array(X_test).reshape(-1,128,128,1)\n",
    "# print(X_train.shape)\n",
    "# onehot_encoder = OneHotEncoder(sparse=False, categories='auto')\n",
    "# y_train = onehot_encoder.fit_transform(np.reshape(np.array(y_train), (-1,1)))\n",
    "# y_test = onehot_encoder.transform(np.reshape(np.array(y_test), (-1,1)))\n",
    "\n",
    "X_train = np.array(train_images)/255\n",
    "X_train = np.array(X_train).reshape(-1,128,128,1)\n",
    "onehot_encoder = OneHotEncoder(sparse=False)\n",
    "y_train = onehot_encoder.fit_transform(np.reshape(np.array(train_labels['Label']), (-1,1)))\n",
    "\n",
    "X_test = np.array(test_images)/255\n",
    "X_test = np.array(X_test).reshape(-1,128,128,1)"
   ]
  },
  {
   "cell_type": "code",
   "execution_count": 6,
   "metadata": {
    "colab": {
     "base_uri": "https://localhost:8080/",
     "height": 71
    },
    "colab_type": "code",
    "id": "3dTzBdGXR154",
    "outputId": "5ef3c0e7-b155-4601-f4e7-eae32c21429f",
    "scrolled": true
   },
   "outputs": [
    {
     "name": "stdout",
     "output_type": "stream",
     "text": [
      "Epoch 1/20\n",
      "50000/50000 [==============================] - 107s 2ms/step - loss: 1.7210 - acc: 0.3345\n",
      "Epoch 2/20\n",
      "50000/50000 [==============================] - 102s 2ms/step - loss: 0.8995 - acc: 0.6985\n",
      "Epoch 3/20\n",
      "50000/50000 [==============================] - 105s 2ms/step - loss: 0.5231 - acc: 0.8395\n",
      "Epoch 4/20\n",
      "50000/50000 [==============================] - 102s 2ms/step - loss: 0.3774 - acc: 0.8864\n",
      "Epoch 5/20\n",
      "50000/50000 [==============================] - 101s 2ms/step - loss: 0.3013 - acc: 0.9100\n",
      "Epoch 6/20\n",
      "50000/50000 [==============================] - 101s 2ms/step - loss: 0.2573 - acc: 0.9246\n",
      "Epoch 7/20\n",
      "50000/50000 [==============================] - 101s 2ms/step - loss: 0.2201 - acc: 0.9337\n",
      "Epoch 8/20\n",
      "50000/50000 [==============================] - 102s 2ms/step - loss: 0.1938 - acc: 0.9417\n",
      "Epoch 9/20\n",
      "50000/50000 [==============================] - 106s 2ms/step - loss: 0.1757 - acc: 0.9473\n",
      "Epoch 10/20\n",
      "50000/50000 [==============================] - 104s 2ms/step - loss: 0.1516 - acc: 0.9534\n",
      "Epoch 11/20\n",
      "50000/50000 [==============================] - 101s 2ms/step - loss: 0.1430 - acc: 0.9562\n",
      "Epoch 12/20\n",
      "50000/50000 [==============================] - 101s 2ms/step - loss: 0.1304 - acc: 0.9588\n",
      "Epoch 13/20\n",
      "50000/50000 [==============================] - 101s 2ms/step - loss: 0.1269 - acc: 0.9608\n",
      "Epoch 14/20\n",
      "50000/50000 [==============================] - 101s 2ms/step - loss: 0.1164 - acc: 0.9643\n",
      "Epoch 15/20\n",
      "50000/50000 [==============================] - 101s 2ms/step - loss: 0.1073 - acc: 0.9668\n",
      "Epoch 16/20\n",
      "50000/50000 [==============================] - 101s 2ms/step - loss: 0.1018 - acc: 0.9691\n",
      "Epoch 17/20\n",
      "50000/50000 [==============================] - 101s 2ms/step - loss: 0.0981 - acc: 0.9700\n",
      "Epoch 18/20\n",
      "50000/50000 [==============================] - 101s 2ms/step - loss: 0.0964 - acc: 0.9694\n",
      "Epoch 19/20\n",
      "50000/50000 [==============================] - 101s 2ms/step - loss: 0.0962 - acc: 0.9705\n",
      "Epoch 20/20\n",
      "50000/50000 [==============================] - 101s 2ms/step - loss: 0.0942 - acc: 0.9720\n",
      "Finished Training\n"
     ]
    }
   ],
   "source": [
    "history = model.fit(X_train, y_train, batch_size=100, epochs=20)\n",
    "model.save('cnn_model.h5')\n",
    "print('Finished Training')\n",
    "\n",
    "predictions = np.argmax(model.predict(X_test), axis=1)"
   ]
  },
  {
   "cell_type": "code",
   "execution_count": null,
   "metadata": {},
   "outputs": [],
   "source": [
    "results = np.array(list(zip(np.arange(0,10000),y_pred_test)))\n",
    "results = pd.DataFrame(results, columns=['id', 'label'])\n",
    "results.to_csv('no_preprocess_cnn.csv', index = False)"
   ]
  }
 ],
 "metadata": {
  "colab": {
   "machine_shape": "hm",
   "name": "keras_deep_cnn.ipynb",
   "provenance": []
  },
  "kernelspec": {
   "display_name": "Python 3",
   "language": "python",
   "name": "python3"
  },
  "language_info": {
   "codemirror_mode": {
    "name": "ipython",
    "version": 3
   },
   "file_extension": ".py",
   "mimetype": "text/x-python",
   "name": "python",
   "nbconvert_exporter": "python",
   "pygments_lexer": "ipython3",
   "version": "3.6.5"
  }
 },
 "nbformat": 4,
 "nbformat_minor": 1
}

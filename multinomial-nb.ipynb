{
 "cells": [
  {
   "cell_type": "markdown",
   "metadata": {},
   "source": [
    "# Imports"
   ]
  },
  {
   "cell_type": "code",
   "execution_count": 1,
   "metadata": {},
   "outputs": [],
   "source": [
    "# generic\n",
    "import os\n",
    "\n",
    "# Data management\n",
    "import csv\n",
    "import pandas as pd\n",
    "\n",
    "#nlp\n",
    "import nltk\n",
    "from nltk.tokenize import TweetTokenizer\n",
    "from nltk.tokenize.treebank import TreebankWordDetokenizer\n",
    "from nltk.stem import WordNetLemmatizer\n",
    "from nltk.corpus import stopwords\n",
    "from spellchecker import SpellChecker\n",
    "from sklearn.feature_extraction.text import CountVectorizer\n",
    "from sklearn.feature_extraction.text import TfidfVectorizer\n",
    "from sklearn.feature_extraction.text import TfidfTransformer\n",
    "from sklearn.feature_extraction.text import normalize\n",
    "from nltk.stem import SnowballStemmer\n",
    "from sklearn.utils import shuffle\n",
    "\n",
    "#base classifier\n",
    "from sklearn.naive_bayes import MultinomialNB\n",
    "\n",
    "\n",
    "# Math and plots\n",
    "import numpy as np\n",
    "import random\n",
    "import matplotlib.pyplot as plt"
   ]
  },
  {
   "cell_type": "markdown",
   "metadata": {},
   "source": [
    "# Flags"
   ]
  },
  {
   "cell_type": "code",
   "execution_count": 2,
   "metadata": {},
   "outputs": [],
   "source": [
    "# preprocessing\n",
    "REGEX = True\n",
    "SPELL_CHECK = False\n",
    "STOP_WORDS = False\n",
    "LEMMATIZE = False\n",
    "STEM = False\n",
    "\n",
    "# flag selection"
   ]
  },
  {
   "cell_type": "markdown",
   "metadata": {},
   "source": [
    "# Data Loader"
   ]
  },
  {
   "cell_type": "code",
   "execution_count": 3,
   "metadata": {},
   "outputs": [],
   "source": [
    "# filepaths\n",
    "train_data = './Data/reddit_train.csv'\n",
    "test_path = './Data/reddit_test.csv'\n",
    "\n",
    "# gloabal labels\n",
    "labels = ['hockey', 'nba', 'leagueoflegends', 'soccer', \\\n",
    "          'funny', 'movies', 'anime', 'Overwatch', 'trees', \\\n",
    "          'GlobalOffensive', 'nfl', 'AskReddit', 'gameofthrones', \\\n",
    "          'conspiracy', 'worldnews', 'wow', 'europe', 'canada', \\\n",
    "          'Music', 'baseball']"
   ]
  },
  {
   "cell_type": "markdown",
   "metadata": {},
   "source": [
    "## Cleaning and Preprocessing"
   ]
  },
  {
   "cell_type": "code",
   "execution_count": 4,
   "metadata": {},
   "outputs": [],
   "source": [
    "#load\n",
    "comment_data = pd.read_csv(train_data)\n",
    "comment_data = shuffle(comment_data)\n",
    "\n",
    "#load\n",
    "test_data = pd.read_csv(test_path)"
   ]
  },
  {
   "cell_type": "code",
   "execution_count": 5,
   "metadata": {},
   "outputs": [],
   "source": [
    "if REGEX:\n",
    "    #clean\n",
    "    comment_data['prep'] = comment_data['comments'].str.replace(r'[^\\w\\s]+', ' ')\n",
    "    comment_data['prep'] = comment_data['prep'].str.lower()\n",
    "    comment_data['prep'] = comment_data['prep'].str.replace('(\\d+)', ' num ')\n",
    "    comment_data['prep'] = comment_data['prep'].str.replace(r'http(?<=http).*', ' wasurl ')\n",
    "    comment_data['prep'] = comment_data['prep'].str.replace(r'\\s+', \" \")\n",
    "    comment_data['prep'] = comment_data['prep'].str.replace(\" +\", \" \")\n",
    "\n",
    "\n",
    "    #clean\n",
    "    test_data['prep'] = test_data['comments'].str.replace(r'[^\\w\\s]+', ' ')\n",
    "    test_data['prep'] = test_data['prep'].str.lower()\n",
    "    test_data['prep'] = test_data['prep'].str.replace('(\\d+)', ' num ')\n",
    "    test_data['prep'] = test_data['prep'].str.replace(r'http(?<=http).*', ' wasurl ')\n",
    "    test_data['prep'] = test_data['prep'].str.replace(r'\\s+', \" \")\n",
    "    test_data['prep'] = test_data['prep'].str.replace(\" +\", \" \")"
   ]
  },
  {
   "cell_type": "code",
   "execution_count": 6,
   "metadata": {},
   "outputs": [],
   "source": [
    "tt = TweetTokenizer()"
   ]
  },
  {
   "cell_type": "code",
   "execution_count": 7,
   "metadata": {},
   "outputs": [],
   "source": [
    "if SPELL_CHECK:\n",
    "    #spellcheck\n",
    "    spell = SpellChecker(distance=1)\n",
    "    def spellcheck_col(row):\n",
    "        row = tt.tokenize(row)\n",
    "        return \" \".join([spell.correction(word) for word in row])\n",
    "\n",
    "    comment_data['prep'] = comment_data.prep.apply(spellcheck_col)\n",
    "    test_data['prep'] = test_data.prep.apply(spellcheck_col)\n",
    "\n",
    "if STOP_WORDS:\n",
    "    # stopwords\n",
    "    stop = stopwords.words('english')\n",
    "    comment_data['prep'] = comment_data.prep.apply(lambda x: ' '.join([word for word in x.split() if word not in (stop)]))\n",
    "    test_data['prep'] = test_data.prep.apply(lambda x: ' '.join([word for word in x.split() if word not in (stop)]))\n",
    "\n",
    "if LEMMATIZE:\n",
    "    # lemmatization\n",
    "    lemmatizer = WordNetLemmatizer()\n",
    "    def lemmatize_col(row):\n",
    "        row = tt.tokenize(row)\n",
    "        return \" \".join([lemmatizer.lemmatize(w) for w in row])\n",
    "\n",
    "    comment_data['prep'] = comment_data.prep.apply(lemmatize_col)\n",
    "    test_data['prep'] = test_data.prep.apply(lemmatize_col)\n",
    "\n",
    "if STEM:\n",
    "    #semmer\n",
    "    stemmer = SnowballStemmer('english')\n",
    "    def stem_col(row):\n",
    "        row = tt.tokenize(row)\n",
    "        return \" \".join([stemmer.stem(word) for word in row])\n",
    "\n",
    "    comment_data['prep'] = comment_data.prep.apply(stem_col)\n",
    "    test_data['prep'] = test_data.prep.apply(stem_col)\n"
   ]
  },
  {
   "cell_type": "markdown",
   "metadata": {},
   "source": [
    "# 85/15 Split - Basic Testing"
   ]
  },
  {
   "cell_type": "code",
   "execution_count": 8,
   "metadata": {},
   "outputs": [],
   "source": [
    "## NOTE: TO USE PREPROC, SET COMMENT_DATA['prep'] instead of comment_data['comments']"
   ]
  },
  {
   "cell_type": "code",
   "execution_count": 9,
   "metadata": {},
   "outputs": [
    {
     "name": "stdout",
     "output_type": "stream",
     "text": [
      "(70000,)\n",
      "(30000,)\n",
      "(70000,)\n"
     ]
    }
   ],
   "source": [
    "#split data\n",
    "clean_data = comment_data['comments'].to_numpy()\n",
    "clean_labels = comment_data['subreddits'].to_numpy()\n",
    "# training_data = clean_data[:60000]\n",
    "# testing_data = clean_data[60000:]\n",
    "# training_labels = clean_labels[:60000]\n",
    "# testing_labels = clean_labels[60000:]\n",
    "\n",
    "training_data = clean_data\n",
    "training_labels = clean_labels\n",
    "testing_data = test_data['comments'].to_numpy()\n",
    "\n",
    "print(training_data.shape)\n",
    "print(testing_data.shape)\n",
    "print(training_labels.shape)\n",
    "\n",
    "# print(training_data[0])"
   ]
  },
  {
   "cell_type": "code",
   "execution_count": 10,
   "metadata": {},
   "outputs": [],
   "source": [
    "# # count vectors w/ norm\n",
    "# counter = CountVectorizer(min_df=1, max_df=0.05, ngram_range=(1,1))\n",
    "# training_counts = counter.fit_transform(training_data)\n",
    "# testing_counts = counter.transform(testing_data)\n",
    "\n",
    "# print(training_counts.shape)\n",
    "# print(testing_counts.shape)\n",
    "\n",
    "# # tokenize and remove min words on \"training set\"\n",
    "# tfidf = TfidfTransformer()\n",
    "# training_vec = tfidf.fit_transform(training_counts)\n",
    "# testing_vec = tfidf.transform(testing_counts)\n",
    "\n",
    "# print(training_vec.shape)\n",
    "# print(testing_vec.shape)"
   ]
  },
  {
   "cell_type": "code",
   "execution_count": 11,
   "metadata": {},
   "outputs": [
    {
     "name": "stdout",
     "output_type": "stream",
     "text": [
      "(70000, 74265)\n",
      "(30000, 74265)\n"
     ]
    }
   ],
   "source": [
    "#BEST\n",
    "tfidf = TfidfVectorizer(sublinear_tf=True, smooth_idf=False)\n",
    "training_vec = tfidf.fit_transform(training_data)\n",
    "testing_vec = tfidf.transform(testing_data)\n",
    "\n",
    "print(training_vec.shape)\n",
    "print(testing_vec.shape)"
   ]
  },
  {
   "cell_type": "code",
   "execution_count": 21,
   "metadata": {},
   "outputs": [
    {
     "name": "stdout",
     "output_type": "stream",
     "text": [
      "(70000, 66838)\n",
      "(30000, 66838)\n"
     ]
    }
   ],
   "source": [
    "# reduce feature space by percentile\n",
    "from sklearn.feature_selection import SelectPercentile, f_classif\n",
    "selector = SelectPercentile(f_classif, percentile=90)\n",
    "training_vec = selector.fit_transform(training_vec, training_labels)\n",
    "testing_vec = selector.transform(testing_vec)\n",
    "\n",
    "print(training_vec.shape)\n",
    "print(testing_vec.shape)"
   ]
  },
  {
   "cell_type": "markdown",
   "metadata": {},
   "source": [
    "## Test"
   ]
  },
  {
   "cell_type": "code",
   "execution_count": 12,
   "metadata": {},
   "outputs": [
    {
     "name": "stdout",
     "output_type": "stream",
     "text": [
      "(30000,)\n"
     ]
    }
   ],
   "source": [
    "clf = MultinomialNB(alpha=0.1, fit_prior=True)\n",
    "clf.fit(training_vec, training_labels)\n",
    "results = clf.predict(testing_vec)\n",
    "\n",
    "print(results.shape)\n",
    "pd.DataFrame(results).to_csv(\"results.csv\")\n",
    "\n",
    "# r = np.array([0 for i in range(20)])\n",
    "# w = np.array([0 for i in range(20)])\n",
    "# count = 0\n",
    "# for idx, result in enumerate(results):\n",
    "#     l = labels.index(testing_labels[idx])\n",
    "#     w[l] += 1\n",
    "#     if result == testing_labels[idx]:\n",
    "#         count += 1\n",
    "#         r[l] += 1\n",
    "# print(r/w)\n",
    "# print(count/len(results))        "
   ]
  },
  {
   "cell_type": "code",
   "execution_count": null,
   "metadata": {},
   "outputs": [],
   "source": []
  }
 ],
 "metadata": {
  "kernelspec": {
   "display_name": "Python 3",
   "language": "python",
   "name": "python3"
  },
  "language_info": {
   "codemirror_mode": {
    "name": "ipython",
    "version": 3
   },
   "file_extension": ".py",
   "mimetype": "text/x-python",
   "name": "python",
   "nbconvert_exporter": "python",
   "pygments_lexer": "ipython3",
   "version": "3.7.3"
  }
 },
 "nbformat": 4,
 "nbformat_minor": 2
}

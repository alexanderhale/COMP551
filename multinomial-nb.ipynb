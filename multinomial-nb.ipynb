{
 "cells": [
  {
   "cell_type": "markdown",
   "metadata": {},
   "source": [
    "# Imports"
   ]
  },
  {
   "cell_type": "code",
   "execution_count": 2,
   "metadata": {},
   "outputs": [],
   "source": [
    "# generic\n",
    "import os\n",
    "\n",
    "# Data management\n",
    "import csv\n",
    "import pandas as pd\n",
    "\n",
    "#nlp\n",
    "import nltk\n",
    "from nltk.tokenize import TweetTokenizer\n",
    "from nltk.tokenize.treebank import TreebankWordDetokenizer\n",
    "from nltk.stem import WordNetLemmatizer\n",
    "from nltk.corpus import stopwords\n",
    "from spellchecker import SpellChecker\n",
    "from sklearn.feature_extraction.text import CountVectorizer\n",
    "from sklearn.feature_extraction.text import TfidfVectorizer\n",
    "from sklearn.feature_extraction.text import TfidfTransformer\n",
    "from sklearn.feature_extraction.text import normalize\n",
    "from nltk.stem import SnowballStemmer\n",
    "from sklearn.utils import shuffle\n",
    "\n",
    "#base classifier\n",
    "from sklearn.naive_bayes import MultinomialNB\n",
    "from sklearn.feature_selection import SelectPercentile, f_classif\n",
    "\n",
    "\n",
    "# Math and plots\n",
    "import numpy as np\n",
    "import random\n",
    "import matplotlib.pyplot as plt"
   ]
  },
  {
   "cell_type": "markdown",
   "metadata": {},
   "source": [
    "# Flags"
   ]
  },
  {
   "cell_type": "code",
   "execution_count": 3,
   "metadata": {},
   "outputs": [],
   "source": [
    "# preprocessing\n",
    "REGEX = True\n",
    "SPELL_CHECK = False\n",
    "STOP_WORDS = False\n",
    "LEMMATIZE = False\n",
    "STEM = False\n",
    "\n",
    "# flag selection\n",
    "PREDICT_TEST_SET = False"
   ]
  },
  {
   "cell_type": "markdown",
   "metadata": {},
   "source": [
    "# Data Loader"
   ]
  },
  {
   "cell_type": "code",
   "execution_count": 4,
   "metadata": {},
   "outputs": [],
   "source": [
    "# filepaths\n",
    "train_data = './Data/reddit_train.csv'\n",
    "test_path = './Data/reddit_test.csv'\n",
    "\n",
    "# gloabal labels\n",
    "labels = ['hockey', 'nba', 'leagueoflegends', 'soccer', \\\n",
    "          'funny', 'movies', 'anime', 'Overwatch', 'trees', \\\n",
    "          'GlobalOffensive', 'nfl', 'AskReddit', 'gameofthrones', \\\n",
    "          'conspiracy', 'worldnews', 'wow', 'europe', 'canada', \\\n",
    "          'Music', 'baseball']"
   ]
  },
  {
   "cell_type": "markdown",
   "metadata": {},
   "source": [
    "## Cleaning and Preprocessing"
   ]
  },
  {
   "cell_type": "code",
   "execution_count": 5,
   "metadata": {},
   "outputs": [],
   "source": [
    "#load\n",
    "comment_data = pd.read_csv(train_data)\n",
    "comment_data = shuffle(comment_data)\n",
    "\n",
    "#load\n",
    "test_data = pd.read_csv(test_path)"
   ]
  },
  {
   "cell_type": "code",
   "execution_count": 6,
   "metadata": {},
   "outputs": [],
   "source": [
    "if REGEX:\n",
    "    #clean\n",
    "    comment_data['prep'] = comment_data['comments'].str.replace(r'[^\\w\\s]+', ' ')\n",
    "    comment_data['prep'] = comment_data['prep'].str.lower()\n",
    "    comment_data['prep'] = comment_data['prep'].str.replace('(\\d+)', ' num ')\n",
    "    comment_data['prep'] = comment_data['prep'].str.replace(r'http(?<=http).*', ' wasurl ')\n",
    "    comment_data['prep'] = comment_data['prep'].str.replace(r'\\s+', \" \")\n",
    "    comment_data['prep'] = comment_data['prep'].str.replace(\" +\", \" \")\n",
    "\n",
    "\n",
    "    #clean\n",
    "    test_data['prep'] = test_data['comments'].str.replace(r'[^\\w\\s]+', ' ')\n",
    "    test_data['prep'] = test_data['prep'].str.lower()\n",
    "    test_data['prep'] = test_data['prep'].str.replace('(\\d+)', ' num ')\n",
    "    test_data['prep'] = test_data['prep'].str.replace(r'http(?<=http).*', ' wasurl ')\n",
    "    test_data['prep'] = test_data['prep'].str.replace(r'\\s+', \" \")\n",
    "    test_data['prep'] = test_data['prep'].str.replace(\" +\", \" \")"
   ]
  },
  {
   "cell_type": "code",
   "execution_count": 7,
   "metadata": {},
   "outputs": [],
   "source": [
    "tt = TweetTokenizer()"
   ]
  },
  {
   "cell_type": "code",
   "execution_count": 8,
   "metadata": {},
   "outputs": [],
   "source": [
    "if SPELL_CHECK:\n",
    "    #spellcheck\n",
    "    spell = SpellChecker(distance=1)\n",
    "    def spellcheck_col(row):\n",
    "        row = tt.tokenize(row)\n",
    "        return \" \".join([spell.correction(word) for word in row])\n",
    "\n",
    "    comment_data['prep'] = comment_data.prep.apply(spellcheck_col)\n",
    "    test_data['prep'] = test_data.prep.apply(spellcheck_col)\n",
    "\n",
    "if STOP_WORDS:\n",
    "    # stopwords\n",
    "    stop = stopwords.words('english')\n",
    "    comment_data['prep'] = comment_data.prep.apply(lambda x: ' '.join([word for word in x.split() if word not in (stop)]))\n",
    "    test_data['prep'] = test_data.prep.apply(lambda x: ' '.join([word for word in x.split() if word not in (stop)]))\n",
    "\n",
    "if LEMMATIZE:\n",
    "    # lemmatization\n",
    "    lemmatizer = WordNetLemmatizer()\n",
    "    def lemmatize_col(row):\n",
    "        row = tt.tokenize(row)\n",
    "        return \" \".join([lemmatizer.lemmatize(w) for w in row])\n",
    "\n",
    "    comment_data['prep'] = comment_data.prep.apply(lemmatize_col)\n",
    "    test_data['prep'] = test_data.prep.apply(lemmatize_col)\n",
    "\n",
    "if STEM:\n",
    "    #semmer\n",
    "    stemmer = SnowballStemmer('english')\n",
    "    def stem_col(row):\n",
    "        row = tt.tokenize(row)\n",
    "        return \" \".join([stemmer.stem(word) for word in row])\n",
    "\n",
    "    comment_data['prep'] = comment_data.prep.apply(stem_col)\n",
    "    test_data['prep'] = test_data.prep.apply(stem_col)\n"
   ]
  },
  {
   "cell_type": "markdown",
   "metadata": {},
   "source": [
    "# 85/15 Split - Basic Testing"
   ]
  },
  {
   "cell_type": "code",
   "execution_count": 8,
   "metadata": {},
   "outputs": [],
   "source": [
    "## NOTE: TO USE PREPROC, SET COMMENT_DATA['prep'] instead of comment_data['comments']"
   ]
  },
  {
   "cell_type": "code",
   "execution_count": 22,
   "metadata": {},
   "outputs": [
    {
     "name": "stdout",
     "output_type": "stream",
     "text": [
      "(70000,)\n",
      "(30000,)\n",
      "(70000,)\n"
     ]
    }
   ],
   "source": [
    "#split data\n",
    "clean_data = comment_data['comments'].to_numpy()\n",
    "clean_labels = comment_data['subreddits'].to_numpy()\n",
    "# training_data = clean_data[:60000]\n",
    "# testing_data = clean_data[60000:]\n",
    "# training_labels = clean_labels[:60000]\n",
    "# testing_labels = clean_labels[60000:]\n",
    "\n",
    "training_data = clean_data\n",
    "training_labels = clean_labels\n",
    "testing_data = test_data['comments'].to_numpy()\n",
    "\n",
    "print(training_data.shape)\n",
    "print(testing_data.shape)\n",
    "print(training_labels.shape)\n",
    "\n",
    "# print(training_data[0])"
   ]
  },
  {
   "cell_type": "code",
   "execution_count": 23,
   "metadata": {},
   "outputs": [
    {
     "name": "stdout",
     "output_type": "stream",
     "text": [
      "(70000, 74265)\n",
      "(30000, 74265)\n"
     ]
    }
   ],
   "source": [
    "#BEST\n",
    "tfidf = TfidfVectorizer(sublinear_tf=True, smooth_idf=False)\n",
    "training_vec = tfidf.fit_transform(training_data)\n",
    "testing_vec = tfidf.transform(testing_data)\n",
    "\n",
    "print(training_vec.shape)\n",
    "print(testing_vec.shape)"
   ]
  },
  {
   "cell_type": "code",
   "execution_count": 24,
   "metadata": {},
   "outputs": [
    {
     "name": "stdout",
     "output_type": "stream",
     "text": [
      "(70000, 66838)\n",
      "(30000, 66838)\n"
     ]
    }
   ],
   "source": [
    "# reduce feature space by percentile\n",
    "selector = SelectPercentile(f_classif, percentile=90)\n",
    "training_vec = selector.fit_transform(training_vec, training_labels)\n",
    "testing_vec = selector.transform(testing_vec)\n",
    "\n",
    "print(training_vec.shape)\n",
    "print(testing_vec.shape)"
   ]
  },
  {
   "cell_type": "markdown",
   "metadata": {},
   "source": [
    "## Test"
   ]
  },
  {
   "cell_type": "code",
   "execution_count": 25,
   "metadata": {},
   "outputs": [
    {
     "name": "stdout",
     "output_type": "stream",
     "text": [
      "(30000,)\n"
     ]
    }
   ],
   "source": [
    "clf = MultinomialNB(alpha=0.1, fit_prior=True)\n",
    "clf.fit(training_vec, training_labels)\n",
    "results = clf.predict(testing_vec)\n",
    "\n",
    "print(results.shape)\n",
    "pd.DataFrame(results).to_csv(\"results.csv\")\n",
    "\n",
    "# r = np.array([0 for i in range(20)])\n",
    "# w = np.array([0 for i in range(20)])\n",
    "# count = 0\n",
    "# for idx, result in enumerate(results):\n",
    "#     l = labels.index(testing_labels[idx])\n",
    "#     w[l] += 1\n",
    "#     if result == testing_labels[idx]:\n",
    "#         count += 1\n",
    "#         r[l] += 1\n",
    "# print(r/w)\n",
    "# print(count/len(results))        "
   ]
  },
  {
   "cell_type": "markdown",
   "metadata": {},
   "source": [
    "# K-Fold Cross-Validation Pipeline"
   ]
  },
  {
   "cell_type": "code",
   "execution_count": 26,
   "metadata": {},
   "outputs": [],
   "source": [
    "# leverages pandas for fast csv load but operates in numpy\n",
    "class kFold():\n",
    "    def __init__(self, data, numFolds=5):\n",
    "        self.data = data\n",
    "        self.numFolds = numFolds\n",
    "        self.splits = []\n",
    "        \n",
    "    def generateSplits(self):\n",
    "        np.random.shuffle(self.data)\n",
    "        \n",
    "        folds = []\n",
    "        splitPoint = self.data.shape[0] // (self.numFolds)  #breakpoint index jump\n",
    "        \n",
    "        for i in range(self.numFolds - 1):\n",
    "            folds.append(self.data[i*splitPoint:(i+1)*splitPoint, :])\n",
    "            \n",
    "        folds.append(self.data[(i+1)*splitPoint:,:]) #get extra points in last batch\n",
    "        \n",
    "        # create split permutations 80/10/10\n",
    "        foldDivisor = len(folds[0]) // 2\n",
    "        for i in range(self.numFolds):\n",
    "            train = []\n",
    "            for k in range(self.numFolds):\n",
    "                if i == k:\n",
    "                    validation = folds[i][:foldDivisor] \n",
    "                    test = folds[i][foldDivisor:] \n",
    "                else:\n",
    "                    train.append(folds[k])\n",
    "            \n",
    "            train = np.vstack(train) # adapt dims\n",
    "            self.splits.append((train, validation, test))"
   ]
  },
  {
   "cell_type": "code",
   "execution_count": 27,
   "metadata": {},
   "outputs": [],
   "source": [
    "# helper function: unpacks data that was zipped together when we shuffled\n",
    "def unpack(subset):\n",
    "    data = []\n",
    "    labels = []\n",
    "\n",
    "    for x,y in subset:\n",
    "        data.append(x)\n",
    "        labels.append(y)\n",
    "\n",
    "    data = np.array(data)\n",
    "    labels = np.array(labels)\n",
    "    \n",
    "    return (data, labels)"
   ]
  },
  {
   "cell_type": "code",
   "execution_count": 28,
   "metadata": {},
   "outputs": [
    {
     "name": "stdout",
     "output_type": "stream",
     "text": [
      "(70000, 2)\n"
     ]
    }
   ],
   "source": [
    "# reformat\n",
    "clean_data = comment_data['comments'].to_numpy()\n",
    "clean_labels = comment_data['subreddits'].to_numpy()\n",
    "\n",
    "#pack tuple\n",
    "comments = []\n",
    "for idx in range(clean_data.shape[0]):\n",
    "    item = (clean_data[idx], clean_labels[idx])\n",
    "    comments.append(item)\n",
    "comments = np.asarray(comments)\n",
    "print(comments.shape)"
   ]
  },
  {
   "cell_type": "code",
   "execution_count": 29,
   "metadata": {},
   "outputs": [
    {
     "name": "stdout",
     "output_type": "stream",
     "text": [
      "(56000, 2)\n",
      "(7000, 2)\n",
      "(7000, 2)\n"
     ]
    }
   ],
   "source": [
    "# make splits\n",
    "commentFolds = kFold(comments)\n",
    "commentFolds.generateSplits()\n",
    "splits = commentFolds.splits\n",
    "trainex, valex, testex = splits[0]\n",
    "print(trainex.shape)\n",
    "print(valex.shape)\n",
    "print(testex.shape)"
   ]
  },
  {
   "cell_type": "code",
   "execution_count": 35,
   "metadata": {},
   "outputs": [
    {
     "name": "stdout",
     "output_type": "stream",
     "text": [
      "Fold  1  Validation accuracy is:  0.5731428571428572\n",
      "Fold  1  Testing accuracy is:  0.5652857142857143\n",
      "Fold  2  Validation accuracy is:  0.5735714285714286\n",
      "Fold  2  Testing accuracy is:  0.575\n",
      "Fold  3  Validation accuracy is:  0.555\n",
      "Fold  3  Testing accuracy is:  0.5805714285714285\n",
      "Fold  4  Validation accuracy is:  0.5724285714285714\n",
      "Fold  4  Testing accuracy is:  0.5752857142857143\n",
      "Fold  5  Validation accuracy is:  0.5727142857142857\n",
      "Fold  5  Testing accuracy is:  0.5637142857142857\n"
     ]
    }
   ],
   "source": [
    "for s, split in enumerate(splits):\n",
    "    \n",
    "    # unpack segements\n",
    "    train, val, test = split\n",
    "    \n",
    "    # unpack data and labels\n",
    "    training_data, training_labels = unpack(train)\n",
    "    validation_data, validation_labels = unpack(val)\n",
    "    testing_data, testing_labels = unpack(test)\n",
    "    \n",
    "    # tokenize and remove min words on \"training set\"\n",
    "    tfidf = TfidfVectorizer(sublinear_tf=True, smooth_idf=False)\n",
    "    training_vec = tfidf.fit_transform(training_data)\n",
    "    validation_vec = tfidf.transform(validation_data)\n",
    "    testing_vec = tfidf.transform(testing_data)\n",
    "    \n",
    "    # reduce feature space by percentile\n",
    "    selector = SelectPercentile(f_classif, percentile=90)\n",
    "    training_vec = selector.fit_transform(training_vec, training_labels)\n",
    "    validation_vec = selector.transform(validation_vec)\n",
    "    testing_vec = selector.transform(testing_vec)\n",
    "\n",
    "    # fit model on training set\n",
    "    nb = MultinomialNB(alpha=0.1, fit_prior=True)\n",
    "    nb.fit(training_vec,training_labels)\n",
    "    \n",
    "    num_correct = 0\n",
    "    results = nb.predict(validation_vec)\n",
    "    for idx, result in enumerate(results):\n",
    "        score = labels.index(validation_labels[idx])\n",
    "        if result == validation_labels[idx]:\n",
    "            num_correct += 1\n",
    "    print(\"Fold \", s+1, \" Validation accuracy is: \" , num_correct/(validation_vec.shape[0]))\n",
    "    \n",
    "    num_correct = 0\n",
    "    results = nb.predict(testing_vec)\n",
    "    for idx, result in enumerate(results):\n",
    "        score = labels.index(testing_labels[idx])\n",
    "        if result == testing_labels[idx]:\n",
    "            num_correct += 1\n",
    "    print(\"Fold \", s+1, \" Testing accuracy is: \" , num_correct/(testing_vec.shape[0]))"
   ]
  }
 ],
 "metadata": {
  "kernelspec": {
   "display_name": "Python 3",
   "language": "python",
   "name": "python3"
  },
  "language_info": {
   "codemirror_mode": {
    "name": "ipython",
    "version": 3
   },
   "file_extension": ".py",
   "mimetype": "text/x-python",
   "name": "python",
   "nbconvert_exporter": "python",
   "pygments_lexer": "ipython3",
   "version": "3.7.3"
  }
 },
 "nbformat": 4,
 "nbformat_minor": 2
}

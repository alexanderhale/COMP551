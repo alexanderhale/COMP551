{
 "cells": [
  {
   "cell_type": "markdown",
   "metadata": {},
   "source": [
    "# COMP 551 Assignment 3 - Digit Localization"
   ]
  },
  {
   "cell_type": "code",
   "execution_count": 4,
   "metadata": {},
   "outputs": [
    {
     "name": "stdout",
     "output_type": "stream",
     "text": [
      "   Id  Label\n",
      "0   0      6\n",
      "1   1      7\n",
      "2   2      2\n",
      "3   3      9\n",
      "4   4      7\n",
      "(50000, 128, 128)\n",
      "(10000, 128, 128)\n"
     ]
    }
   ],
   "source": [
    "# basic\n",
    "import cv2\n",
    "import numpy as np\n",
    "import imutils\n",
    "import matplotlib.pyplot as plt\n",
    "import pandas as pd\n",
    "\n",
    "# PyTorch \n",
    "import torch\n",
    "\n",
    "train_labels = pd.read_csv('train_max_y.csv')\n",
    "train_images = pd.read_pickle('train_max_x')\n",
    "test_images = pd.read_pickle('test_max_x')\n",
    "\n",
    "print(train_labels.head())\n",
    "print(train_images.shape)\n",
    "print(test_images.shape)"
   ]
  },
  {
   "cell_type": "code",
   "execution_count": 5,
   "metadata": {},
   "outputs": [],
   "source": [
    "##### DIGIT EXTRACTION PARAMETERS #####\n",
    "# can be tweaked to optimize digit extraction from image\n",
    "threshold = 210    # binary thresholding image (keep white (255) digits, set everything else to black)\n",
    "digit_width = 15   # number of pixels wide a contour box must be to be detected as a digit\n",
    "digit_height = 15  # number of pixels tall a contour box must be to be detected as a digit\n",
    "\n",
    "##### STORAGE VARIABLES #####\n",
    "allDigitWindows = []   # holds the windows containing digits (in black & white)"
   ]
  },
  {
   "cell_type": "code",
   "execution_count": 6,
   "metadata": {
    "scrolled": true
   },
   "outputs": [],
   "source": [
    "for img in train_images:\n",
    "    # threshold the image to only black (non-digit) or white (digit)\n",
    "    ret, t_img = cv2.threshold(img.copy(), threshold, 255, cv2.THRESH_BINARY)\n",
    "    digitBoxes = t_img.copy()\n",
    "    \n",
    "    # find contours in the thresholded image\n",
    "    contours = cv2.findContours(t_img.copy().astype(np.uint8), cv2.RETR_EXTERNAL, cv2.CHAIN_APPROX_SIMPLE)\n",
    "\n",
    "    # loop over the candidates for digits, determine which are actually digits, then save them\n",
    "    digitWindows = []\n",
    "    for c in imutils.grab_contours(contours):\n",
    "        # compute the bounding box of the contour\n",
    "        (x, y, w, h) = cv2.boundingRect(c)\n",
    "\n",
    "        # if the contour is sufficiently large, decide that it is a digit\n",
    "        if w >= digit_width and w <= 28 and h >= digit_height and h <= 28:\n",
    "            digitWindows.append(np.asarray(t_img[y:y+h, x:x+w]))\n",
    "#             cv2.rectangle(digitBoxes, (x, y), (x + w, y + h), (255, 0, 0), 1)\n",
    "        elif w >= digit_width or h >= digit_height:\n",
    "            digitWindows.append(np.asarray(t_img[y:y+h, x:x+w]))\n",
    "\n",
    "    # add digitContours to array\n",
    "    allDigitWindows.append(digitWindows)\n",
    "    \n",
    "    # display progression\n",
    "#     plt.figure(figsize = (20,20))\n",
    "#     plt.subplot(131), plt.imshow(img, cmap='gray', vmin=0, vmax=255)\n",
    "#     plt.subplot(132), plt.imshow(t_img, cmap='gray', vmin=0, vmax=255)\n",
    "#     plt.subplot(133), plt.imshow(digitBoxes, cmap='gray', vmin=0, vmax=255)\n",
    "#     plt.show()"
   ]
  },
  {
   "cell_type": "code",
   "execution_count": 7,
   "metadata": {},
   "outputs": [
    {
     "name": "stdout",
     "output_type": "stream",
     "text": [
      "number of images with > 3 identified digits: 1590\n",
      "number of images with < 3 identified digits: 871\n",
      "number of images with != 3 identified digits: 2461\n",
      "average number of digits identified per image: 3.0221\n",
      "number of images with no digits identified: 0\n"
     ]
    }
   ],
   "source": [
    "# determine performance of digit identifier\n",
    "count = 0\n",
    "average = 0\n",
    "none = 0\n",
    "more = 0\n",
    "less = 0\n",
    "for img in allDigitWindows:\n",
    "    if len(img) != 3:\n",
    "        count += 1\n",
    "    if len(img) > 3:\n",
    "        more += 1\n",
    "    if len(img) < 3:\n",
    "        less += 1\n",
    "    if len(img) ==0:\n",
    "        none += 1\n",
    "    average += len(img)\n",
    "average /= len(allDigitWindows)\n",
    "\n",
    "print(\"number of images with > 3 identified digits: \" + str(more))\n",
    "print(\"number of images with < 3 identified digits: \" + str(less))\n",
    "print(\"number of images with != 3 identified digits: \" + str(count))\n",
    "print(\"average number of digits identified per image: \" + str(average))\n",
    "print(\"number of images with no digits identified: \" + str(none))"
   ]
  },
  {
   "cell_type": "markdown",
   "metadata": {},
   "source": [
    "### Format data to be fed into the model"
   ]
  },
  {
   "cell_type": "code",
   "execution_count": null,
   "metadata": {},
   "outputs": [],
   "source": [
    "digitData = []\n",
    "\n",
    "for img in allDigitWindows:\n",
    "    imgData = []\n",
    "    for digit in img:\n",
    "        \n",
    "        resized = cv2.copyMakeBorder(digit, 5, 5, 5, 5, cv2.BORDER_CONSTANT, 255)\n",
    "        resized = cv2.resize(resized, (28, 28))\n",
    "\n",
    "        imgData.append(np.asarray(resized))\n",
    "    digitData.append(imgData)\n",
    "    \n",
    "torch.save(digitData, 'win15Thresh210DigitData.pkl')"
   ]
  }
 ],
 "metadata": {
  "kernelspec": {
   "display_name": "Python 3",
   "language": "python",
   "name": "python3"
  },
  "language_info": {
   "codemirror_mode": {
    "name": "ipython",
    "version": 3
   },
   "file_extension": ".py",
   "mimetype": "text/x-python",
   "name": "python",
   "nbconvert_exporter": "python",
   "pygments_lexer": "ipython3",
   "version": "3.6.5"
  }
 },
 "nbformat": 4,
 "nbformat_minor": 2
}

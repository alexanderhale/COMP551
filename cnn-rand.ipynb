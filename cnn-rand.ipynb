{
 "cells": [
  {
   "cell_type": "code",
   "execution_count": 3,
   "metadata": {
    "colab": {
     "base_uri": "https://localhost:8080/",
     "height": 156
    },
    "colab_type": "code",
    "id": "lwVIAfM9UezK",
    "outputId": "5ade957a-a354-4f7a-db20-8d56161e5d3a"
   },
   "outputs": [
    {
     "name": "stderr",
     "output_type": "stream",
     "text": [
      "[nltk_data] Downloading package punkt to /Users/erickzhao/nltk_data...\n",
      "[nltk_data]   Package punkt is already up-to-date!\n"
     ]
    }
   ],
   "source": [
    "# make sure to run nltk.download() if you're getting errors\n",
    "import nltk\n",
    "nltk.download('punkt')\n",
    "from keras.layers import Conv2D, Concatenate, Dense, Flatten, Reshape, Dropout, MaxPool2D\n",
    "import string\n",
    "from keras.engine.input_layer import Input\n",
    "from keras import preprocessing\n",
    "from keras.models import Sequential, Model\n",
    "from keras.optimizers import Adadelta\n",
    "from keras.layers.embeddings import Embedding\n",
    "from sklearn.model_selection import train_test_split\n",
    "import numpy as np\n",
    "import collections\n",
    "from nltk.tokenize import word_tokenize\n",
    "\n",
    "pos_examples = open('data/rt-polarity.pos', encoding='ISO-8859-1').readlines()\n",
    "neg_examples = open('data/rt-polarity.neg', encoding='ISO-8859-1').readlines()\n",
    "\n",
    "vocab = collections.defaultdict(int)\n",
    "translator = str.maketrans('', '', string.punctuation)"
   ]
  },
  {
   "cell_type": "code",
   "execution_count": 4,
   "metadata": {
    "colab": {
     "base_uri": "https://localhost:8080/",
     "height": 156
    },
    "colab_type": "code",
    "id": "lwVIAfM9UezK",
    "outputId": "5ade957a-a354-4f7a-db20-8d56161e5d3a"
   },
   "outputs": [
    {
     "name": "stdout",
     "output_type": "stream",
     "text": [
      "Vocabulary size: 20490\n",
      "Max sentence length: 51\n",
      "(5331, 51)\n",
      "(5331, 51)\n",
      "(8529, 51) (8529,)\n",
      "(2133, 51) (2133,)\n"
     ]
    }
   ],
   "source": [
    "# 1. Tokenize all strings\n",
    "token_pos = list(map(lambda ex: word_tokenize(ex.translate(translator)), pos_examples))\n",
    "token_neg = list(map(lambda ex: word_tokenize(ex.translate(translator)), neg_examples))\n",
    "\n",
    "# 2. Get vocabulary size and max sentence length\n",
    "max_sentence_length = 0\n",
    "for ex_p, ex_n in zip(token_pos, token_neg):\n",
    "    max_sentence_length = max(max_sentence_length, len(ex_p), len(ex_n))\n",
    "    for word in ex_p:\n",
    "        vocab[word] += 1\n",
    "    for word in ex_n:\n",
    "        vocab[word] += 1\n",
    "\n",
    "vocab_size = len(vocab)\n",
    "print(\"Vocabulary size: \" + str(vocab_size))\n",
    "print(\"Max sentence length: \" + str(max_sentence_length))\n",
    "\n",
    "# 3. One-Hot encode and pad.\n",
    "encoded_pos = [preprocessing.text.one_hot(ex, vocab_size) for ex in pos_examples]\n",
    "padded_pos = preprocessing.sequence.pad_sequences(encoded_pos, maxlen=max_sentence_length, padding='post')\n",
    "encoded_neg = [preprocessing.text.one_hot(ex, vocab_size) for ex in neg_examples]\n",
    "padded_neg = preprocessing.sequence.pad_sequences(encoded_neg, maxlen=max_sentence_length, padding='post')\n",
    "\n",
    "print(padded_pos.shape)\n",
    "print(padded_neg.shape)\n",
    "\n",
    "X = np.concatenate((padded_pos, padded_neg))\n",
    "y = np.concatenate((np.ones(padded_pos.shape[0]), np.zeros(padded_neg.shape[0])))\n",
    "X_train, X_test, y_train, y_test = train_test_split(X, y, test_size=0.2)\n",
    "print(X_train.shape, y_train.shape)\n",
    "print(X_test.shape, y_test.shape)"
   ]
  },
  {
   "cell_type": "code",
   "execution_count": null,
   "metadata": {
    "colab": {
     "base_uri": "https://localhost:8080/",
     "height": 1000
    },
    "colab_type": "code",
    "id": "c9GoMnx0_DBZ",
    "outputId": "62e9abf6-34eb-47eb-f99c-9baf9ba7a182"
   },
   "outputs": [
    {
     "name": "stdout",
     "output_type": "stream",
     "text": [
      "WARNING:tensorflow:From /usr/local/anaconda3/lib/python3.7/site-packages/keras/backend/tensorflow_backend.py:74: The name tf.get_default_graph is deprecated. Please use tf.compat.v1.get_default_graph instead.\n",
      "\n",
      "WARNING:tensorflow:From /usr/local/anaconda3/lib/python3.7/site-packages/keras/backend/tensorflow_backend.py:517: The name tf.placeholder is deprecated. Please use tf.compat.v1.placeholder instead.\n",
      "\n",
      "WARNING:tensorflow:From /usr/local/anaconda3/lib/python3.7/site-packages/keras/backend/tensorflow_backend.py:4138: The name tf.random_uniform is deprecated. Please use tf.random.uniform instead.\n",
      "\n",
      "WARNING:tensorflow:From /usr/local/anaconda3/lib/python3.7/site-packages/keras/backend/tensorflow_backend.py:3976: The name tf.nn.max_pool is deprecated. Please use tf.nn.max_pool2d instead.\n",
      "\n",
      "WARNING:tensorflow:From /usr/local/anaconda3/lib/python3.7/site-packages/keras/backend/tensorflow_backend.py:133: The name tf.placeholder_with_default is deprecated. Please use tf.compat.v1.placeholder_with_default instead.\n",
      "\n",
      "WARNING:tensorflow:From /usr/local/anaconda3/lib/python3.7/site-packages/keras/backend/tensorflow_backend.py:3445: calling dropout (from tensorflow.python.ops.nn_ops) with keep_prob is deprecated and will be removed in a future version.\n",
      "Instructions for updating:\n",
      "Please use `rate` instead of `keep_prob`. Rate should be set to `rate = 1 - keep_prob`.\n",
      "WARNING:tensorflow:From /usr/local/anaconda3/lib/python3.7/site-packages/keras/optimizers.py:790: The name tf.train.Optimizer is deprecated. Please use tf.compat.v1.train.Optimizer instead.\n",
      "\n",
      "WARNING:tensorflow:From /usr/local/anaconda3/lib/python3.7/site-packages/keras/backend/tensorflow_backend.py:3376: The name tf.log is deprecated. Please use tf.math.log instead.\n",
      "\n",
      "WARNING:tensorflow:From /usr/local/anaconda3/lib/python3.7/site-packages/tensorflow/python/ops/nn_impl.py:180: add_dispatch_support.<locals>.wrapper (from tensorflow.python.ops.array_ops) is deprecated and will be removed in a future version.\n",
      "Instructions for updating:\n",
      "Use tf.where in 2.0, which has the same broadcast rule as np.where\n",
      "__________________________________________________________________________________________________\n",
      "Layer (type)                    Output Shape         Param #     Connected to                     \n",
      "==================================================================================================\n",
      "input_1 (InputLayer)            (None, 51)           0                                            \n",
      "__________________________________________________________________________________________________\n",
      "embedding_1 (Embedding)         (None, 51, 300)      6147000     input_1[0][0]                    \n",
      "__________________________________________________________________________________________________\n",
      "reshape_1 (Reshape)             (None, 51, 300, 1)   0           embedding_1[0][0]                \n",
      "__________________________________________________________________________________________________\n",
      "conv2d_1 (Conv2D)               (None, 49, 1, 100)   90100       reshape_1[0][0]                  \n",
      "__________________________________________________________________________________________________\n",
      "conv2d_2 (Conv2D)               (None, 48, 1, 100)   120100      reshape_1[0][0]                  \n",
      "__________________________________________________________________________________________________\n",
      "conv2d_3 (Conv2D)               (None, 47, 1, 100)   150100      reshape_1[0][0]                  \n",
      "__________________________________________________________________________________________________\n",
      "max_pooling2d_1 (MaxPooling2D)  (None, 1, 1, 100)    0           conv2d_1[0][0]                   \n",
      "__________________________________________________________________________________________________\n",
      "max_pooling2d_2 (MaxPooling2D)  (None, 1, 1, 100)    0           conv2d_2[0][0]                   \n",
      "__________________________________________________________________________________________________\n",
      "max_pooling2d_3 (MaxPooling2D)  (None, 1, 1, 100)    0           conv2d_3[0][0]                   \n",
      "__________________________________________________________________________________________________\n",
      "concatenate_1 (Concatenate)     (None, 3, 1, 100)    0           max_pooling2d_1[0][0]            \n",
      "                                                                 max_pooling2d_2[0][0]            \n",
      "                                                                 max_pooling2d_3[0][0]            \n",
      "__________________________________________________________________________________________________\n",
      "flatten_1 (Flatten)             (None, 300)          0           concatenate_1[0][0]              \n",
      "__________________________________________________________________________________________________\n",
      "dropout_1 (Dropout)             (None, 300)          0           flatten_1[0][0]                  \n",
      "__________________________________________________________________________________________________\n",
      "dense_1 (Dense)                 (None, 1)            301         dropout_1[0][0]                  \n",
      "==================================================================================================\n",
      "Total params: 6,507,601\n",
      "Trainable params: 6,507,601\n",
      "Non-trainable params: 0\n",
      "__________________________________________________________________________________________________\n",
      "None\n",
      "Train on 8529 samples, validate on 2133 samples\n",
      "Epoch 1/25\n",
      "8529/8529 [==============================] - 80s 9ms/step - loss: 0.6692 - acc: 0.5868 - val_loss: 0.6232 - val_acc: 0.6648\n",
      "Epoch 2/25\n",
      " 320/8529 [>.............................] - ETA: 1:21 - loss: 0.6189 - acc: 0.6688"
     ]
    }
   ],
   "source": [
    "# 4. Create the CNN.\n",
    "# Using an embedding layer, followed by a convolutional, max-pooling and softmax layer.\n",
    "filter_sizes = [3,4,5]\n",
    "hidden_units = [100,2]\n",
    "adadelta = Adadelta()\n",
    "embed_dim = 300\n",
    "\n",
    "# Initialize sequential model\n",
    "\n",
    "# Create embedding layer for randomized word vectors\n",
    "\n",
    "\n",
    "sent_length = max_sentence_length\n",
    "num_filters = 100\n",
    "\n",
    "\n",
    "inputs = Input(shape=(sent_length,), dtype='int32')\n",
    "embed = Embedding(input_dim = vocab_size,\n",
    "                  output_dim = embed_dim,\n",
    "                  input_length = sent_length)(inputs)\n",
    "reshape = Reshape((sent_length, embed_dim, 1))(embed)\n",
    "\n",
    "shapes = []\n",
    "for fsize in filter_sizes:\n",
    "  shapes.append(((fsize, embed_dim),(sent_length - fsize + 1, 1)))\n",
    "\n",
    "pools = []\n",
    "for shape in shapes:\n",
    "  (fshape, pshape) = shape\n",
    "  conv = Conv2D(filters=num_filters, kernel_size=fshape, activation='relu')(reshape)\n",
    "  pool = MaxPool2D(pool_size=pshape, strides=(1,1), padding='valid')(conv)\n",
    "  pools.append(pool)\n",
    "\n",
    "concat = Concatenate(axis=1)(pools)\n",
    "flat = Flatten()(concat)\n",
    "dropout = Dropout(0.5)(flat)\n",
    "output = Dense(units=1, activation='sigmoid')(dropout)\n",
    "\n",
    "model = Model(inputs=inputs, outputs=output)\n",
    "\n",
    "model.compile(loss='binary_crossentropy', optimizer=adadelta, metrics=['accuracy'])\n",
    "print(model.summary())\n",
    "\n",
    "model.fit(X_train, y_train, epochs=25, batch_size=20, validation_data=(X_test, y_test), shuffle=True)\n",
    "\n",
    "# Final evaluation of the model\n",
    "scores = model.evaluate(X_test, y_test, verbose=0)\n",
    "print(\"Accuracy: %.2f%%\" % (scores[1]*100))"
   ]
  },
  {
   "cell_type": "code",
   "execution_count": 0,
   "metadata": {
    "colab": {},
    "colab_type": "code",
    "id": "2m-dnKElj-E6"
   },
   "outputs": [],
   "source": []
  }
 ],
 "metadata": {
  "accelerator": "GPU",
  "colab": {
   "collapsed_sections": [],
   "name": "Untitled1.ipynb",
   "provenance": []
  },
  "kernelspec": {
   "display_name": "Python 3",
   "language": "python",
   "name": "python3"
  },
  "language_info": {
   "codemirror_mode": {
    "name": "ipython",
    "version": 3
   },
   "file_extension": ".py",
   "mimetype": "text/x-python",
   "name": "python",
   "nbconvert_exporter": "python",
   "pygments_lexer": "ipython3",
   "version": "3.7.3"
  }
 },
 "nbformat": 4,
 "nbformat_minor": 1
}

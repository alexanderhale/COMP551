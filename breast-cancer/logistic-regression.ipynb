{
 "cells": [
  {
   "cell_type": "code",
   "execution_count": 9,
   "metadata": {},
   "outputs": [],
   "source": [
    "import numpy as np\n",
    "import math\n",
    "from matplotlib import pyplot as plt\n",
    "\n",
    "def load_data(file_path, delimiter, skiprows=0):\n",
    "    \"\"\"loads a data file and returns a numpy array\"\"\"\n",
    "    file = open(file_path, \"rb\")\n",
    "    arr = np.loadtxt(file, delimiter=delimiter, skiprows=skiprows)\n",
    "    return arr"
   ]
  },
  {
   "cell_type": "code",
   "execution_count": 10,
   "metadata": {},
   "outputs": [],
   "source": [
    "data = load_data(\"breast-cancer-wisconsin.csv\", \",\")"
   ]
  },
  {
   "cell_type": "code",
   "execution_count": 11,
   "metadata": {},
   "outputs": [],
   "source": [
    "for row in data:\n",
    "    row[-1] = 0 if row[-1] == 2 else 1"
   ]
  },
  {
   "cell_type": "code",
   "execution_count": 12,
   "metadata": {},
   "outputs": [],
   "source": [
    "X=data[:,1:10]\n",
    "Y=np.ravel((data[:,-1:]))"
   ]
  },
  {
   "cell_type": "code",
   "execution_count": 13,
   "metadata": {},
   "outputs": [],
   "source": [
    "def add_intercept(X):\n",
    "    return np.c_[np.ones(len(X)), X]"
   ]
  },
  {
   "cell_type": "code",
   "execution_count": 14,
   "metadata": {},
   "outputs": [],
   "source": [
    "def sigmoid(Z):\n",
    "    return (1/(math.exp(-Z)))"
   ]
  },
  {
   "cell_type": "code",
   "execution_count": 15,
   "metadata": {},
   "outputs": [],
   "source": [
    "def cross_entropy_derivative(X, W, y):\n",
    "    W_t = np.transpose(W)\n",
    "    return X*(y-sigmoid(np.dot(W_t, X)))"
   ]
  },
  {
   "cell_type": "code",
   "execution_count": 18,
   "metadata": {},
   "outputs": [
    {
     "name": "stdout",
     "output_type": "stream",
     "text": [
      "[-22.2  -65.8  -29.   -31.4  -29.9  -46.8  -29.9  -46.25 -28.   -23.65]\n"
     ]
    }
   ],
   "source": [
    "def update_weights(X, W, Y, alpha):\n",
    "    newW = np.copy(W)\n",
    "    loss_derivative = np.zeros(np.size(X,1))\n",
    "    \n",
    "    for i in range(len(X)):\n",
    "        loss_derivative = np.add(loss_derivative, cross_entropy_derivative(X[i], W, Y[i]))\n",
    "    \n",
    "    newW = np.add(W, alpha*loss_derivative)\n",
    "    return newW\n",
    "\n",
    "nX = add_intercept(X)\n",
    "W = np.zeros(np.size(nX,1))\n",
    "print(update_weights(nX, W, Y, 0.05))"
   ]
  },
  {
   "cell_type": "code",
   "execution_count": 23,
   "metadata": {},
   "outputs": [],
   "source": [
    "class LogisticRegression:\n",
    "    def __init__(self, alpha=0.05):\n",
    "        self.alpha = alpha\n",
    "        self.weights = None\n",
    "\n",
    "    def __add_intercept(self, X):\n",
    "        return np.c_[np.ones(len(X)), X]\n",
    "    \n",
    "    def __sigmoid(self, Z):\n",
    "        return (1/(math.exp(-Z)))\n",
    "    \n",
    "    def __cross_entropy_derivative(self, X, W, y):\n",
    "        W_t = np.transpose(W)\n",
    "        return X*(y-self.__sigmoid(np.dot(W_t, X)))\n",
    "    \n",
    "    def update_weights(self, X, Y):\n",
    "        newW = np.copy(self.weights)\n",
    "        loss_derivative = np.zeros(np.size(X,1))\n",
    "\n",
    "        for i in range(len(X)):\n",
    "            loss_derivative = np.add(loss_derivative, self.__cross_entropy_derivative(X[i], self.weights, Y[i]))\n",
    "\n",
    "        newW = np.add(W, self.alpha*loss_derivative)\n",
    "        return newW\n",
    "    \n",
    "    def fit(self, X, Y):\n",
    "        nX = __add_intercept(X)\n",
    "        self.weights = np.zeros(np.size(nX,1))\n",
    "        newW = update_weights(X,Y)\n",
    "        return newW\n",
    "        \n",
    "        "
   ]
  },
  {
   "cell_type": "code",
   "execution_count": 21,
   "metadata": {},
   "outputs": [
    {
     "name": "stdout",
     "output_type": "stream",
     "text": [
      "[-22.2  -65.8  -29.   -31.4  -29.9  -46.8  -29.9  -46.25 -28.   -23.65]\n"
     ]
    }
   ],
   "source": [
    "lr = LogisticRegression()\n",
    "\n",
    "print(lr.fit(X,Y))"
   ]
  },
  {
   "cell_type": "code",
   "execution_count": null,
   "metadata": {},
   "outputs": [],
   "source": []
  }
 ],
 "metadata": {
  "kernelspec": {
   "display_name": "Python 3",
   "language": "python",
   "name": "python3"
  },
  "language_info": {
   "codemirror_mode": {
    "name": "ipython",
    "version": 3
   },
   "file_extension": ".py",
   "mimetype": "text/x-python",
   "name": "python",
   "nbconvert_exporter": "python",
   "pygments_lexer": "ipython3",
   "version": "3.7.3"
  }
 },
 "nbformat": 4,
 "nbformat_minor": 2
}
